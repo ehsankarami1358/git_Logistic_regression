{
  "nbformat": 4,
  "nbformat_minor": 0,
  "metadata": {
    "colab": {
      "provenance": [],
      "include_colab_link": true
    },
    "kernelspec": {
      "name": "python3",
      "display_name": "Python 3"
    },
    "language_info": {
      "name": "python"
    }
  },
  "cells": [
    {
      "cell_type": "markdown",
      "metadata": {
        "id": "view-in-github",
        "colab_type": "text"
      },
      "source": [
        "<a href=\"https://colab.research.google.com/github/ehsankarami1358/git_Logistic_regression/blob/main/Session06_Workshop2_LogReg02_Synthetic_Example.ipynb\" target=\"_parent\"><img src=\"https://colab.research.google.com/assets/colab-badge.svg\" alt=\"Open In Colab\"/></a>"
      ]
    },
    {
      "cell_type": "markdown",
      "source": [
        "#Logistic Regression (Synthetic_Example)\n",
        "Step 1: Import the required modules \\\\\n",
        "Step 2: Generate the dataset \\\\\n",
        "Step 3: Visualize the Data \\\\\n",
        "Step 4: Split the Dataset \\\\\n",
        "Step 5: Perform Logistic Regression \\\\\n",
        "Step 6: Make prediction using the model \\\\\n",
        "Step 7: Display the Confusion Matrix \\\\"
      ],
      "metadata": {
        "id": "XZtsd1fkoikV"
      }
    },
    {
      "cell_type": "code",
      "source": [
        "pip install -U scikit-learn"
      ],
      "metadata": {
        "colab": {
          "base_uri": "https://localhost:8080/"
        },
        "id": "oJFIuuFcWLvB",
        "outputId": "d3f3d180-36f7-4690-835c-f2704225290b"
      },
      "execution_count": 10,
      "outputs": [
        {
          "output_type": "stream",
          "name": "stdout",
          "text": [
            "Requirement already satisfied: scikit-learn in /usr/local/lib/python3.11/dist-packages (1.6.1)\n",
            "Requirement already satisfied: numpy>=1.19.5 in /usr/local/lib/python3.11/dist-packages (from scikit-learn) (2.0.2)\n",
            "Requirement already satisfied: scipy>=1.6.0 in /usr/local/lib/python3.11/dist-packages (from scikit-learn) (1.14.1)\n",
            "Requirement already satisfied: joblib>=1.2.0 in /usr/local/lib/python3.11/dist-packages (from scikit-learn) (1.4.2)\n",
            "Requirement already satisfied: threadpoolctl>=3.1.0 in /usr/local/lib/python3.11/dist-packages (from scikit-learn) (3.6.0)\n"
          ]
        }
      ]
    },
    {
      "cell_type": "code",
      "source": [
        "# Step 1: Import the required modules\n",
        "from sklearn.datasets import make_classification\n",
        "import matplotlib.pyplot as plt\n",
        "from sklearn.linear_model import LogisticRegression\n",
        "from sklearn.model_selection import train_test_split\n",
        "from sklearn.metrics import confusion_matrix\n",
        "from sklearn.metrics import ConfusionMatrixDisplay\n"
      ],
      "metadata": {
        "id": "Bv7tIunfoh_J"
      },
      "execution_count": 11,
      "outputs": []
    },
    {
      "cell_type": "code",
      "source": [
        "# Step 2: Generate the dataset\n",
        "# You need to specify the number of samples, the number of feature, number of classes and other parameters.\n",
        "# https://scikit-learn.org/stable/modules/generated/sklearn.datasets.make_classification.html\n",
        "X, y = make_classification(\n",
        "    n_samples=100,\n",
        "    n_features=1,\n",
        "    n_classes=2,\n",
        "    n_clusters_per_class=1,\n",
        "    flip_y=0.03,\n",
        "    n_informative=1,\n",
        "    n_redundant=0,\n",
        "    n_repeated=0\n",
        ")\n",
        "# print(y)"
      ],
      "metadata": {
        "id": "XBwo_KcJohX2"
      },
      "execution_count": 12,
      "outputs": []
    },
    {
      "cell_type": "code",
      "execution_count": 13,
      "metadata": {
        "colab": {
          "base_uri": "https://localhost:8080/",
          "height": 452
        },
        "id": "9eMG-mhTod35",
        "outputId": "95794dd4-b9b2-4ef8-be9f-d49878aa7ea7"
      },
      "outputs": [
        {
          "output_type": "display_data",
          "data": {
            "text/plain": [
              "<Figure size 640x480 with 1 Axes>"
            ],
            "image/png": "[encoded data removed]"
          },
          "metadata": {}
        }
      ],
      "source": [
        "# Step 3: Visualize the Data\n",
        "# Creating a simple scatter plot to see how the data looks like.\n",
        "plt.scatter(X, y, c=y, cmap='rainbow')\n",
        "plt.title('Scatter Plot of Logistic Regression')\n",
        "plt.show()"
      ]
    },
    {
      "cell_type": "code",
      "source": [
        "#Step 4: Split the Dataset\n",
        "#The training dataset is used to train the model while the test dataset is used to test the model’s performance on new data.\n",
        "X_train, X_test, y_train, y_test = train_test_split(X, y, random_state=1)"
      ],
      "metadata": {
        "id": "vmMO44-02hc0"
      },
      "execution_count": 14,
      "outputs": []
    },
    {
      "cell_type": "code",
      "source": [
        "#Step 5: Perform Logistic Regression\n",
        "log_reg = LogisticRegression() # LogistiRegression object\n",
        "log_reg.fit(X_train, y_train) # fit it with out dataset\n",
        "\n",
        "#logistic regression coefficient and intercept\n",
        "print(log_reg.coef_) #w1\n",
        "print(log_reg.intercept_) #w0"
      ],
      "metadata": {
        "colab": {
          "base_uri": "https://localhost:8080/"
        },
        "id": "0xjQRNaB27WM",
        "outputId": "6d807957-0b04-4802-a5e2-51f2b94ed98f"
      },
      "execution_count": 15,
      "outputs": [
        {
          "output_type": "stream",
          "name": "stdout",
          "text": [
            "[[2.63042023]]\n",
            "[-0.234225]\n"
          ]
        }
      ]
    },
    {
      "cell_type": "code",
      "source": [
        "#Step 6: Make prediction using the model\n",
        "y_pred = log_reg.predict(X_test) #the model to predict the outputs given the test dataset"
      ],
      "metadata": {
        "id": "6fhgpULQ3CzF"
      },
      "execution_count": 16,
      "outputs": []
    },
    {
      "cell_type": "code",
      "source": [
        "#Step 7: Display the Confusion Matrix\n",
        "confusion_matrix(y_test, y_pred) #The confusion matrix helps you to see how the model performed\n",
        "\n",
        "# True positive (upper-left) – Number of positives we predicted correctly\n",
        "# True negative (lower-right) – Number of negatives we predicted correctly\n",
        "# False positive (top-right) – Number of positives we predicted wrongly\n",
        "# False negative (lower-left) – Number of negatives we predicted wrongly"
      ],
      "metadata": {
        "colab": {
          "base_uri": "https://localhost:8080/"
        },
        "id": "eGjaAb3k3md9",
        "outputId": "bf0f713a-c25a-4b34-ac13-4c2fd5752ec4"
      },
      "execution_count": 17,
      "outputs": [
        {
          "output_type": "execute_result",
          "data": {
            "text/plain": [
              "array([[14,  0],\n",
              "       [ 2,  9]])"
            ]
          },
          "metadata": {},
          "execution_count": 17
        }
      ]
    },
    {
      "cell_type": "code",
      "source": [
        "disp = ConfusionMatrixDisplay.from_estimator(log_reg, X_test, y_test)\n",
        "plt.show()"
      ],
      "metadata": {
        "colab": {
          "base_uri": "https://localhost:8080/",
          "height": 455
        },
        "id": "_tBjVaPu4FEH",
        "outputId": "740133c9-8be7-466c-9ff7-a8b6f628f1c3"
      },
      "execution_count": 18,
      "outputs": [
        {
          "output_type": "display_data",
          "data": {
            "text/plain": [
              "<Figure size 640x480 with 2 Axes>"
            ],
            "image/png": "[encoded data removed]"
          },
          "metadata": {}
        }
      ]
    },
    {
      "cell_type": "code",
      "source": [],
      "metadata": {
        "id": "lEr07alPCxc0"
      },
      "execution_count": 18,
      "outputs": []
    }
  ]
}